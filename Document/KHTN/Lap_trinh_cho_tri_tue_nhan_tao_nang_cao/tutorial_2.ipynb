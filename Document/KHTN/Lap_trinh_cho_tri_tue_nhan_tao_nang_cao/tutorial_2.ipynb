{
  "cells": [
    {
      "cell_type": "markdown",
      "metadata": {
        "id": "7qEy_wlmcCQ3"
      },
      "source": [
        "# **Tutorial 2 - Image classification using SIFT and SVM**"
      ]
    },
    {
      "cell_type": "code",
      "execution_count": null,
      "metadata": {
        "id": "xnHXLiuQjEUl"
      },
      "outputs": [],
      "source": [
        "from sklearn.datasets import fetch_openml\n",
        "from sklearn.model_selection import train_test_split\n",
        "from sklearn.preprocessing import normalize\n",
        "from sklearn.cluster import KMeans\n",
        "from sklearn.svm import SVC\n",
        "import matplotlib.pyplot as plt\n",
        "import numpy as np\n",
        "import cv2\n",
        "import os"
      ]
    },
    {
      "cell_type": "markdown",
      "metadata": {
        "id": "MuxvN18VfjCZ"
      },
      "source": [
        "## 1. Prepare the dataset"
      ]
    },
    {
      "cell_type": "markdown",
      "metadata": {
        "id": "B_Q1c5rMcJEa"
      },
      "source": [
        "In this tutorial, we will use the MNIST dataset. It is a dataset of 70,000 small square 28×28 pixel grayscale images of handwritten single digits between 0 and 9."
      ]
    },
    {
      "cell_type": "code",
      "execution_count": null,
      "metadata": {
        "colab": {
          "base_uri": "https://localhost:8080/",
          "height": 424
        },
        "id": "Xd9rYvXEeRH0",
        "outputId": "f1a47a1d-27ad-4964-ec0b-af8463ab71e5"
      },
      "outputs": [
        {
          "name": "stderr",
          "output_type": "stream",
          "text": [
            "/home/htrvu/anaconda3/envs/htrvu/lib/python3.8/site-packages/sklearn/datasets/_openml.py:932: FutureWarning: The default value of `parser` will change from `'liac-arff'` to `'auto'` in 1.4. You can set `parser='auto'` to silence this warning. Therefore, an `ImportError` will be raised from 1.4 if the dataset is dense and pandas is not installed. Note that the pandas parser may return different data types. See the Notes Section in fetch_openml's API doc for details.\n",
            "  warn(\n"
          ]
        },
        {
          "data": {
            "text/html": [
              "<div>\n",
              "<style scoped>\n",
              "    .dataframe tbody tr th:only-of-type {\n",
              "        vertical-align: middle;\n",
              "    }\n",
              "\n",
              "    .dataframe tbody tr th {\n",
              "        vertical-align: top;\n",
              "    }\n",
              "\n",
              "    .dataframe thead th {\n",
              "        text-align: right;\n",
              "    }\n",
              "</style>\n",
              "<table border=\"1\" class=\"dataframe\">\n",
              "  <thead>\n",
              "    <tr style=\"text-align: right;\">\n",
              "      <th></th>\n",
              "      <th>pixel1</th>\n",
              "      <th>pixel2</th>\n",
              "      <th>pixel3</th>\n",
              "      <th>pixel4</th>\n",
              "      <th>pixel5</th>\n",
              "      <th>pixel6</th>\n",
              "      <th>pixel7</th>\n",
              "      <th>pixel8</th>\n",
              "      <th>pixel9</th>\n",
              "      <th>pixel10</th>\n",
              "      <th>...</th>\n",
              "      <th>pixel775</th>\n",
              "      <th>pixel776</th>\n",
              "      <th>pixel777</th>\n",
              "      <th>pixel778</th>\n",
              "      <th>pixel779</th>\n",
              "      <th>pixel780</th>\n",
              "      <th>pixel781</th>\n",
              "      <th>pixel782</th>\n",
              "      <th>pixel783</th>\n",
              "      <th>pixel784</th>\n",
              "    </tr>\n",
              "  </thead>\n",
              "  <tbody>\n",
              "    <tr>\n",
              "      <th>0</th>\n",
              "      <td>0.0</td>\n",
              "      <td>0.0</td>\n",
              "      <td>0.0</td>\n",
              "      <td>0.0</td>\n",
              "      <td>0.0</td>\n",
              "      <td>0.0</td>\n",
              "      <td>0.0</td>\n",
              "      <td>0.0</td>\n",
              "      <td>0.0</td>\n",
              "      <td>0.0</td>\n",
              "      <td>...</td>\n",
              "      <td>0.0</td>\n",
              "      <td>0.0</td>\n",
              "      <td>0.0</td>\n",
              "      <td>0.0</td>\n",
              "      <td>0.0</td>\n",
              "      <td>0.0</td>\n",
              "      <td>0.0</td>\n",
              "      <td>0.0</td>\n",
              "      <td>0.0</td>\n",
              "      <td>0.0</td>\n",
              "    </tr>\n",
              "    <tr>\n",
              "      <th>1</th>\n",
              "      <td>0.0</td>\n",
              "      <td>0.0</td>\n",
              "      <td>0.0</td>\n",
              "      <td>0.0</td>\n",
              "      <td>0.0</td>\n",
              "      <td>0.0</td>\n",
              "      <td>0.0</td>\n",
              "      <td>0.0</td>\n",
              "      <td>0.0</td>\n",
              "      <td>0.0</td>\n",
              "      <td>...</td>\n",
              "      <td>0.0</td>\n",
              "      <td>0.0</td>\n",
              "      <td>0.0</td>\n",
              "      <td>0.0</td>\n",
              "      <td>0.0</td>\n",
              "      <td>0.0</td>\n",
              "      <td>0.0</td>\n",
              "      <td>0.0</td>\n",
              "      <td>0.0</td>\n",
              "      <td>0.0</td>\n",
              "    </tr>\n",
              "    <tr>\n",
              "      <th>2</th>\n",
              "      <td>0.0</td>\n",
              "      <td>0.0</td>\n",
              "      <td>0.0</td>\n",
              "      <td>0.0</td>\n",
              "      <td>0.0</td>\n",
              "      <td>0.0</td>\n",
              "      <td>0.0</td>\n",
              "      <td>0.0</td>\n",
              "      <td>0.0</td>\n",
              "      <td>0.0</td>\n",
              "      <td>...</td>\n",
              "      <td>0.0</td>\n",
              "      <td>0.0</td>\n",
              "      <td>0.0</td>\n",
              "      <td>0.0</td>\n",
              "      <td>0.0</td>\n",
              "      <td>0.0</td>\n",
              "      <td>0.0</td>\n",
              "      <td>0.0</td>\n",
              "      <td>0.0</td>\n",
              "      <td>0.0</td>\n",
              "    </tr>\n",
              "    <tr>\n",
              "      <th>3</th>\n",
              "      <td>0.0</td>\n",
              "      <td>0.0</td>\n",
              "      <td>0.0</td>\n",
              "      <td>0.0</td>\n",
              "      <td>0.0</td>\n",
              "      <td>0.0</td>\n",
              "      <td>0.0</td>\n",
              "      <td>0.0</td>\n",
              "      <td>0.0</td>\n",
              "      <td>0.0</td>\n",
              "      <td>...</td>\n",
              "      <td>0.0</td>\n",
              "      <td>0.0</td>\n",
              "      <td>0.0</td>\n",
              "      <td>0.0</td>\n",
              "      <td>0.0</td>\n",
              "      <td>0.0</td>\n",
              "      <td>0.0</td>\n",
              "      <td>0.0</td>\n",
              "      <td>0.0</td>\n",
              "      <td>0.0</td>\n",
              "    </tr>\n",
              "    <tr>\n",
              "      <th>4</th>\n",
              "      <td>0.0</td>\n",
              "      <td>0.0</td>\n",
              "      <td>0.0</td>\n",
              "      <td>0.0</td>\n",
              "      <td>0.0</td>\n",
              "      <td>0.0</td>\n",
              "      <td>0.0</td>\n",
              "      <td>0.0</td>\n",
              "      <td>0.0</td>\n",
              "      <td>0.0</td>\n",
              "      <td>...</td>\n",
              "      <td>0.0</td>\n",
              "      <td>0.0</td>\n",
              "      <td>0.0</td>\n",
              "      <td>0.0</td>\n",
              "      <td>0.0</td>\n",
              "      <td>0.0</td>\n",
              "      <td>0.0</td>\n",
              "      <td>0.0</td>\n",
              "      <td>0.0</td>\n",
              "      <td>0.0</td>\n",
              "    </tr>\n",
              "    <tr>\n",
              "      <th>...</th>\n",
              "      <td>...</td>\n",
              "      <td>...</td>\n",
              "      <td>...</td>\n",
              "      <td>...</td>\n",
              "      <td>...</td>\n",
              "      <td>...</td>\n",
              "      <td>...</td>\n",
              "      <td>...</td>\n",
              "      <td>...</td>\n",
              "      <td>...</td>\n",
              "      <td>...</td>\n",
              "      <td>...</td>\n",
              "      <td>...</td>\n",
              "      <td>...</td>\n",
              "      <td>...</td>\n",
              "      <td>...</td>\n",
              "      <td>...</td>\n",
              "      <td>...</td>\n",
              "      <td>...</td>\n",
              "      <td>...</td>\n",
              "      <td>...</td>\n",
              "    </tr>\n",
              "    <tr>\n",
              "      <th>69995</th>\n",
              "      <td>0.0</td>\n",
              "      <td>0.0</td>\n",
              "      <td>0.0</td>\n",
              "      <td>0.0</td>\n",
              "      <td>0.0</td>\n",
              "      <td>0.0</td>\n",
              "      <td>0.0</td>\n",
              "      <td>0.0</td>\n",
              "      <td>0.0</td>\n",
              "      <td>0.0</td>\n",
              "      <td>...</td>\n",
              "      <td>0.0</td>\n",
              "      <td>0.0</td>\n",
              "      <td>0.0</td>\n",
              "      <td>0.0</td>\n",
              "      <td>0.0</td>\n",
              "      <td>0.0</td>\n",
              "      <td>0.0</td>\n",
              "      <td>0.0</td>\n",
              "      <td>0.0</td>\n",
              "      <td>0.0</td>\n",
              "    </tr>\n",
              "    <tr>\n",
              "      <th>69996</th>\n",
              "      <td>0.0</td>\n",
              "      <td>0.0</td>\n",
              "      <td>0.0</td>\n",
              "      <td>0.0</td>\n",
              "      <td>0.0</td>\n",
              "      <td>0.0</td>\n",
              "      <td>0.0</td>\n",
              "      <td>0.0</td>\n",
              "      <td>0.0</td>\n",
              "      <td>0.0</td>\n",
              "      <td>...</td>\n",
              "      <td>0.0</td>\n",
              "      <td>0.0</td>\n",
              "      <td>0.0</td>\n",
              "      <td>0.0</td>\n",
              "      <td>0.0</td>\n",
              "      <td>0.0</td>\n",
              "      <td>0.0</td>\n",
              "      <td>0.0</td>\n",
              "      <td>0.0</td>\n",
              "      <td>0.0</td>\n",
              "    </tr>\n",
              "    <tr>\n",
              "      <th>69997</th>\n",
              "      <td>0.0</td>\n",
              "      <td>0.0</td>\n",
              "      <td>0.0</td>\n",
              "      <td>0.0</td>\n",
              "      <td>0.0</td>\n",
              "      <td>0.0</td>\n",
              "      <td>0.0</td>\n",
              "      <td>0.0</td>\n",
              "      <td>0.0</td>\n",
              "      <td>0.0</td>\n",
              "      <td>...</td>\n",
              "      <td>0.0</td>\n",
              "      <td>0.0</td>\n",
              "      <td>0.0</td>\n",
              "      <td>0.0</td>\n",
              "      <td>0.0</td>\n",
              "      <td>0.0</td>\n",
              "      <td>0.0</td>\n",
              "      <td>0.0</td>\n",
              "      <td>0.0</td>\n",
              "      <td>0.0</td>\n",
              "    </tr>\n",
              "    <tr>\n",
              "      <th>69998</th>\n",
              "      <td>0.0</td>\n",
              "      <td>0.0</td>\n",
              "      <td>0.0</td>\n",
              "      <td>0.0</td>\n",
              "      <td>0.0</td>\n",
              "      <td>0.0</td>\n",
              "      <td>0.0</td>\n",
              "      <td>0.0</td>\n",
              "      <td>0.0</td>\n",
              "      <td>0.0</td>\n",
              "      <td>...</td>\n",
              "      <td>0.0</td>\n",
              "      <td>0.0</td>\n",
              "      <td>0.0</td>\n",
              "      <td>0.0</td>\n",
              "      <td>0.0</td>\n",
              "      <td>0.0</td>\n",
              "      <td>0.0</td>\n",
              "      <td>0.0</td>\n",
              "      <td>0.0</td>\n",
              "      <td>0.0</td>\n",
              "    </tr>\n",
              "    <tr>\n",
              "      <th>69999</th>\n",
              "      <td>0.0</td>\n",
              "      <td>0.0</td>\n",
              "      <td>0.0</td>\n",
              "      <td>0.0</td>\n",
              "      <td>0.0</td>\n",
              "      <td>0.0</td>\n",
              "      <td>0.0</td>\n",
              "      <td>0.0</td>\n",
              "      <td>0.0</td>\n",
              "      <td>0.0</td>\n",
              "      <td>...</td>\n",
              "      <td>0.0</td>\n",
              "      <td>0.0</td>\n",
              "      <td>0.0</td>\n",
              "      <td>0.0</td>\n",
              "      <td>0.0</td>\n",
              "      <td>0.0</td>\n",
              "      <td>0.0</td>\n",
              "      <td>0.0</td>\n",
              "      <td>0.0</td>\n",
              "      <td>0.0</td>\n",
              "    </tr>\n",
              "  </tbody>\n",
              "</table>\n",
              "<p>70000 rows × 784 columns</p>\n",
              "</div>"
            ],
            "text/plain": [
              "       pixel1  pixel2  pixel3  pixel4  pixel5  pixel6  pixel7  pixel8  pixel9  \\\n",
              "0         0.0     0.0     0.0     0.0     0.0     0.0     0.0     0.0     0.0   \n",
              "1         0.0     0.0     0.0     0.0     0.0     0.0     0.0     0.0     0.0   \n",
              "2         0.0     0.0     0.0     0.0     0.0     0.0     0.0     0.0     0.0   \n",
              "3         0.0     0.0     0.0     0.0     0.0     0.0     0.0     0.0     0.0   \n",
              "4         0.0     0.0     0.0     0.0     0.0     0.0     0.0     0.0     0.0   \n",
              "...       ...     ...     ...     ...     ...     ...     ...     ...     ...   \n",
              "69995     0.0     0.0     0.0     0.0     0.0     0.0     0.0     0.0     0.0   \n",
              "69996     0.0     0.0     0.0     0.0     0.0     0.0     0.0     0.0     0.0   \n",
              "69997     0.0     0.0     0.0     0.0     0.0     0.0     0.0     0.0     0.0   \n",
              "69998     0.0     0.0     0.0     0.0     0.0     0.0     0.0     0.0     0.0   \n",
              "69999     0.0     0.0     0.0     0.0     0.0     0.0     0.0     0.0     0.0   \n",
              "\n",
              "       pixel10  ...  pixel775  pixel776  pixel777  pixel778  pixel779  \\\n",
              "0          0.0  ...       0.0       0.0       0.0       0.0       0.0   \n",
              "1          0.0  ...       0.0       0.0       0.0       0.0       0.0   \n",
              "2          0.0  ...       0.0       0.0       0.0       0.0       0.0   \n",
              "3          0.0  ...       0.0       0.0       0.0       0.0       0.0   \n",
              "4          0.0  ...       0.0       0.0       0.0       0.0       0.0   \n",
              "...        ...  ...       ...       ...       ...       ...       ...   \n",
              "69995      0.0  ...       0.0       0.0       0.0       0.0       0.0   \n",
              "69996      0.0  ...       0.0       0.0       0.0       0.0       0.0   \n",
              "69997      0.0  ...       0.0       0.0       0.0       0.0       0.0   \n",
              "69998      0.0  ...       0.0       0.0       0.0       0.0       0.0   \n",
              "69999      0.0  ...       0.0       0.0       0.0       0.0       0.0   \n",
              "\n",
              "       pixel780  pixel781  pixel782  pixel783  pixel784  \n",
              "0           0.0       0.0       0.0       0.0       0.0  \n",
              "1           0.0       0.0       0.0       0.0       0.0  \n",
              "2           0.0       0.0       0.0       0.0       0.0  \n",
              "3           0.0       0.0       0.0       0.0       0.0  \n",
              "4           0.0       0.0       0.0       0.0       0.0  \n",
              "...         ...       ...       ...       ...       ...  \n",
              "69995       0.0       0.0       0.0       0.0       0.0  \n",
              "69996       0.0       0.0       0.0       0.0       0.0  \n",
              "69997       0.0       0.0       0.0       0.0       0.0  \n",
              "69998       0.0       0.0       0.0       0.0       0.0  \n",
              "69999       0.0       0.0       0.0       0.0       0.0  \n",
              "\n",
              "[70000 rows x 784 columns]"
            ]
          },
          "execution_count": 2,
          "metadata": {},
          "output_type": "execute_result"
        }
      ],
      "source": [
        "mnist = fetch_openml('mnist_784')\n",
        "mnist.data"
      ]
    },
    {
      "cell_type": "code",
      "execution_count": null,
      "metadata": {
        "id": "IBgcgy6ThIRd"
      },
      "outputs": [],
      "source": [
        "all_images = mnist.data.to_numpy().reshape(-1, 28, 28).astype(np.uint8)\n",
        "all_labels = mnist.target.to_numpy().astype(np.uint8)"
      ]
    },
    {
      "cell_type": "code",
      "execution_count": null,
      "metadata": {
        "colab": {
          "base_uri": "https://localhost:8080/",
          "height": 204
        },
        "id": "9I86xLRHhRp_",
        "outputId": "1d35c7e6-9f4e-4ca5-c564-393382a63386"
      },
      "outputs": [
        {
          "data": {
            "image/png": "[encoded data removed]",
            "text/plain": [
              "<Figure size 1600x800 with 5 Axes>"
            ]
          },
          "metadata": {},
          "output_type": "display_data"
        }
      ],
      "source": [
        "plt.figure(figsize=(16, 8))\n",
        "for i in range(5):\n",
        "  plt.subplot(1, 5, i + 1)\n",
        "  plt.imshow(all_images[i], cmap=plt.cm.gray_r, interpolation='nearest')\n",
        "  plt.title('Label = ' + str(all_labels[i]))\n",
        "  plt.xticks([])\n",
        "  plt.yticks([])"
      ]
    },
    {
      "cell_type": "markdown",
      "metadata": {
        "id": "jpMtjAzqgbRe"
      },
      "source": [
        "We will use 60000 images for training, the rest is for testing.\n"
      ]
    },
    {
      "cell_type": "code",
      "execution_count": null,
      "metadata": {
        "id": "WRfcKh_9gtfL"
      },
      "outputs": [],
      "source": [
        "train_images, test_images, train_labels, test_labels = train_test_split(all_images, all_labels, test_size=1./7., random_state=42)\n"
      ]
    },
    {
      "cell_type": "code",
      "execution_count": null,
      "metadata": {
        "id": "h9kYhvAlKLUO",
        "outputId": "c4d8d2d9-9e28-482b-ccb0-161fc08b544a"
      },
      "outputs": [
        {
          "name": "stdout",
          "output_type": "stream",
          "text": [
            "Train images: (60000, 28, 28)\n",
            "Train labels: (60000,)\n",
            "Test images: (10000, 28, 28)\n",
            "Test labels: (10000,)\n"
          ]
        }
      ],
      "source": [
        "print('Train images:', train_images.shape)\n",
        "print('Train labels:', train_labels.shape)\n",
        "print('Test images:', test_images.shape)\n",
        "print('Test labels:', test_labels.shape)"
      ]
    },
    {
      "cell_type": "markdown",
      "metadata": {
        "id": "izX72oHYAfNH"
      },
      "source": [
        "## 2. Step by step"
      ]
    },
    {
      "cell_type": "markdown",
      "metadata": {
        "id": "PvGZ_PABh03L"
      },
      "source": [
        "### 2.1. Extract Features with SIFT"
      ]
    },
    {
      "cell_type": "markdown",
      "metadata": {
        "id": "W-gwMWHziaWh"
      },
      "source": [
        "SIFT is an algorithm in computer vision to detect and describe local features in images. This is an example for the result of SIFT on images of MNIST dataset:"
      ]
    },
    {
      "cell_type": "code",
      "execution_count": null,
      "metadata": {
        "colab": {
          "base_uri": "https://localhost:8080/",
          "height": 188
        },
        "id": "6bfoPODLvZRO",
        "outputId": "3af58814-e4b2-42ef-e090-1bbafe29fefc"
      },
      "outputs": [
        {
          "data": {
            "image/png": "[encoded data removed]",
            "text/plain": [
              "<Figure size 1600x1000 with 5 Axes>"
            ]
          },
          "metadata": {},
          "output_type": "display_data"
        }
      ],
      "source": [
        "sift = cv2.SIFT_create()\n",
        "plt.figure(figsize=(16, 10))\n",
        "for i in range(5):\n",
        "  ex_image = train_images[i].copy()\n",
        "  kp, des = sift.detectAndCompute(ex_image, None)\n",
        "  res_image = cv2.drawKeypoints(ex_image, kp, ex_image)\n",
        "  plt.subplot(1, 5, i + 1)\n",
        "  plt.imshow(res_image)\n",
        "  plt.xticks([])\n",
        "  plt.yticks([])"
      ]
    },
    {
      "cell_type": "markdown",
      "metadata": {
        "id": "v11pfEI6vhzU"
      },
      "source": [
        " We will run this algorithm for every class in MNIST dataset (from 0 to 9). "
      ]
    },
    {
      "cell_type": "code",
      "execution_count": null,
      "metadata": {
        "id": "zotk1bc2kr6k"
      },
      "outputs": [],
      "source": [
        "def get_images_dict(images, labels):\n",
        "  d = {}\n",
        "  for i in range(len(labels)):\n",
        "    if labels[i] not in d:\n",
        "      d[labels[i]] = []\n",
        "    d[labels[i]].append(images[i])\n",
        "  return d"
      ]
    },
    {
      "cell_type": "code",
      "execution_count": null,
      "metadata": {
        "id": "9VpmFlktf7HW"
      },
      "outputs": [],
      "source": [
        "def sift_features(images_dict):\n",
        "  sift_vectors = {}\n",
        "  descriptor_list = []\n",
        "  sift = cv2.SIFT_create()\n",
        "  for label, images in images_dict.items():\n",
        "    features = []\n",
        "    for image in images:\n",
        "      kp, des = sift.detectAndCompute(image, None)\n",
        "      if des is not None:\n",
        "        descriptor_list.extend(des)\n",
        "        features.append(des)\n",
        "    sift_vectors[label] = features\n",
        "  return [descriptor_list, sift_vectors]"
      ]
    },
    {
      "cell_type": "code",
      "execution_count": null,
      "metadata": {
        "id": "oZNGPzcKk6_u"
      },
      "outputs": [],
      "source": [
        "train_dict = get_images_dict(train_images, train_labels)\n",
        "train_sifts = sift_features(train_dict)\n",
        "train_descriptor_list = train_sifts[0]\n",
        "train_bovw_feature = train_sifts[1]"
      ]
    },
    {
      "cell_type": "code",
      "execution_count": null,
      "metadata": {
        "id": "q2rWcfhLs0eJ"
      },
      "outputs": [],
      "source": [
        "test_dict = get_images_dict(test_images, test_labels)\n",
        "test_bovw_feature = sift_features(test_dict)[1]"
      ]
    },
    {
      "cell_type": "markdown",
      "metadata": {
        "id": "thw22Zui1k__"
      },
      "source": [
        "For a better understanding about the above steps:\n",
        "- `train_descriptor_list` contains the description of every key points of ALL training images (no matter which image each key point belongs to). So its shape will looks like `(N, 128)`\n",
        "- `train_bovw_feature` contains the description of every key points of each image, in each class. It will looks like\n",
        "    ```bash\n",
        "    0: [(N_1, 128), (N_2, 128), ...],\n",
        "    1: [(N_3, 128), (N_4, 128), ...],\n",
        "    ...\n",
        "    ```"
      ]
    },
    {
      "cell_type": "code",
      "execution_count": null,
      "metadata": {
        "colab": {
          "base_uri": "https://localhost:8080/"
        },
        "id": "8AxrErFJ2-Ls",
        "outputId": "91dc6d25-9d0c-442f-edcb-ef70ea7f55b9"
      },
      "outputs": [
        {
          "name": "stdout",
          "output_type": "stream",
          "text": [
            "(128,)\n",
            "(8, 128)\n"
          ]
        }
      ],
      "source": [
        "print(train_descriptor_list[0].shape)\n",
        "print(train_bovw_feature[0][0].shape)"
      ]
    },
    {
      "cell_type": "markdown",
      "metadata": {
        "id": "QhoH7iLl4Oho"
      },
      "source": [
        "### 2.2. Learn Visual Vocabulary with KMeans"
      ]
    },
    {
      "cell_type": "markdown",
      "metadata": {
        "id": "WnUFfDyZ47ko"
      },
      "source": [
        "From the above `train_descriptor_list`, we run KMeans algorithm to quantize the feature space. After getting `k` centers, we will create a histogram vector with `k` dimensions for every image, by asigning each descriptor of its key points to the corresponding cluster's center."
      ]
    },
    {
      "cell_type": "code",
      "execution_count": null,
      "metadata": {
        "id": "R8slgnLG4iHI"
      },
      "outputs": [],
      "source": [
        "def run_kmeans(k, descriptor_list):\n",
        "  kmeans = KMeans(n_clusters=k, n_init=10)\n",
        "  kmeans.fit(descriptor_list)\n",
        "  visual_words = kmeans.cluster_centers_\n",
        "  return visual_words, kmeans"
      ]
    },
    {
      "cell_type": "code",
      "execution_count": null,
      "metadata": {
        "id": "aqMysYpV6GKB"
      },
      "outputs": [],
      "source": [
        "def gen_histograms(bovw_feature, centers, model):\n",
        "  features_dict = {}\n",
        "  for label, image_descriptors in bovw_feature.items():\n",
        "    features = []\n",
        "    for descriptors in image_descriptors:\n",
        "      histogram = np.zeros(len(centers))\n",
        "      for desc in descriptors:\n",
        "        idx = model.predict([desc])[0]\n",
        "        histogram[idx] += 1\n",
        "      features.append(histogram)\n",
        "    features_dict[label] = features\n",
        "  return features_dict"
      ]
    },
    {
      "cell_type": "code",
      "execution_count": null,
      "metadata": {
        "id": "EPNZ-KFV5KPE"
      },
      "outputs": [],
      "source": [
        "visual_words, kmeans = run_kmeans(128, train_descriptor_list)"
      ]
    },
    {
      "cell_type": "code",
      "execution_count": null,
      "metadata": {
        "id": "WXYsaE-h5-_b"
      },
      "outputs": [],
      "source": [
        "train_bovw = gen_histograms(train_bovw_feature, visual_words, kmeans)\n",
        "test_bovw = gen_histograms(test_bovw_feature, visual_words, kmeans)"
      ]
    },
    {
      "cell_type": "markdown",
      "metadata": {
        "id": "xXNoPJ-N-5VU"
      },
      "source": [
        "### 2.3. Classify with SVM"
      ]
    },
    {
      "cell_type": "markdown",
      "metadata": {
        "id": "Ir7OCdPUA_3L"
      },
      "source": [
        "For convenience, we will use class `sklearn.svm.SVC` of Sklearn library.\n",
        "\n",
        "**Note**. In this tutorial, we just try different kernel for SVM for demo purpose. You could play around with other parameters like regularization `C`, kernel coefficient `gamma`,... for better results."
      ]
    },
    {
      "cell_type": "code",
      "execution_count": null,
      "metadata": {
        "id": "ZGv_sOBDA_mD"
      },
      "outputs": [],
      "source": [
        "def bovw_to_dataset(bovw):\n",
        "  X, y = [], []\n",
        "  for label, features_list in bovw.items():\n",
        "    for features in features_list:\n",
        "      features = features / np.linalg.norm(features)\n",
        "      X.append(features)\n",
        "      y.append(label)\n",
        "  X = normalize(np.asarray(X))\n",
        "  y = np.asarray(y)\n",
        "  return X, y\n",
        "\n",
        "def run_svm(train_bovw, test_bovw, kernel='linear'):\n",
        "  X_train, y_train = bovw_to_dataset(train_bovw)\n",
        "  X_test, y_test = bovw_to_dataset(test_bovw)\n",
        "  model = SVC(kernel=kernel)\n",
        "  model.fit(X_train, y_train)\n",
        "  return model.score(X_test, y_test)"
      ]
    },
    {
      "cell_type": "code",
      "execution_count": null,
      "metadata": {
        "id": "O1Me-RCsEImg",
        "outputId": "3ad4949d-4406-4d40-e510-3f3911400456"
      },
      "outputs": [
        {
          "data": {
            "text/plain": [
              "0.7757085848767011"
            ]
          },
          "execution_count": 18,
          "metadata": {},
          "output_type": "execute_result"
        }
      ],
      "source": [
        "run_svm(train_bovw, test_bovw, 'linear')"
      ]
    },
    {
      "cell_type": "markdown",
      "metadata": {
        "id": "eGHS-G4h_YBr"
      },
      "source": [
        "## 3. Experiments"
      ]
    },
    {
      "cell_type": "markdown",
      "metadata": {
        "id": "larMq85FKyWE"
      },
      "source": [
        "We will run this approach with different values of parameter `n_clusters` (for KMeans) and `kernel` (for SVM)."
      ]
    },
    {
      "cell_type": "code",
      "execution_count": null,
      "metadata": {
        "id": "xSyPHSfo_z_f"
      },
      "outputs": [],
      "source": [
        "def experiments(n_clusters, kernel='linear'):\n",
        "  print(f'Running with n_cluster = {n_clusters}, kernel = {kernel}...')\n",
        "  visual_words, kmeans = run_kmeans(n_clusters, train_descriptor_list)\n",
        "  train_bovw = gen_histograms(train_bovw_feature, visual_words, kmeans)\n",
        "  test_bovw = gen_histograms(test_bovw_feature, visual_words, kmeans)\n",
        "  accuracy = run_svm(train_bovw, test_bovw, kernel)\n",
        "  return accuracy"
      ]
    },
    {
      "cell_type": "code",
      "execution_count": null,
      "metadata": {
        "id": "1yk9TSt0KMeL"
      },
      "outputs": [],
      "source": [
        "def bar_plot(data, title, xlabel):\n",
        "  params = list(data.keys())\n",
        "  accs = list(data.values())\n",
        "  idx = np.arange(len(params))\n",
        "    \n",
        "  fig = plt.figure(figsize = (8, 5))\n",
        "  plt.xlabel(xlabel)\n",
        "  plt.ylabel(\"Accuracy\")\n",
        "  plt.xticks(idx, params)\n",
        "  plt.title(title)\n",
        "  bars = plt.bar(idx, accs, width=0.5)\n",
        "  plt.bar_label(bars)\n",
        "  plt.show()"
      ]
    },
    {
      "cell_type": "markdown",
      "metadata": {
        "id": "cm0LgrVF_psQ"
      },
      "source": [
        "### 3.1. SVM with kernel = linear"
      ]
    },
    {
      "cell_type": "code",
      "execution_count": null,
      "metadata": {
        "id": "pemd89gnKB4-",
        "outputId": "38e64c9c-9462-480f-9109-483df5e60860"
      },
      "outputs": [
        {
          "data": {
            "image/png": "[encoded data removed]",
            "text/plain": [
              "<Figure size 800x500 with 1 Axes>"
            ]
          },
          "metadata": {},
          "output_type": "display_data"
        }
      ],
      "source": [
        "acc1 = experiments(128, 'linear')\n",
        "acc2 = experiments(256, 'linear')\n",
        "acc3 = experiments(512, 'linear')\n",
        "acc4 = experiments(1024, 'linear')\n",
        "bar_plot({\n",
        "    128: acc1,\n",
        "    256: acc2,\n",
        "    512: acc3,\n",
        "    1024: acc4\n",
        "}, \"Accuracy for kernel = linear\", \"n_cluster\")"
      ]
    },
    {
      "cell_type": "markdown",
      "metadata": {
        "id": "EWhrVDKp_hNV"
      },
      "source": [
        "### 3.2. KMeans with n_cluster=1024"
      ]
    },
    {
      "cell_type": "code",
      "execution_count": null,
      "metadata": {
        "id": "jIiFfd4x_wif",
        "outputId": "777ca4f3-158b-4f4e-cfa9-a013f43e7f28"
      },
      "outputs": [
        {
          "name": "stdout",
          "output_type": "stream",
          "text": [
            "Running with n_cluster = 1024, kernel = linear...\n",
            "Running with n_cluster = 1024, kernel = poly...\n",
            "Running with n_cluster = 1024, kernel = rbf...\n",
            "Running with n_cluster = 1024, kernel = sigmoid...\n"
          ]
        },
        {
          "data": {
            "image/png": "[encoded data removed]",
            "text/plain": [
              "<Figure size 800x500 with 1 Axes>"
            ]
          },
          "metadata": {},
          "output_type": "display_data"
        }
      ],
      "source": [
        "acc1 = experiments(1024, 'linear')\n",
        "acc2 = experiments(1024, 'poly')\n",
        "acc3 = experiments(1024, 'rbf')\n",
        "acc4 = experiments(1024, 'sigmoid')\n",
        "bar_plot({\n",
        "    'linear': acc1,\n",
        "    'poly': acc2,\n",
        "    'rbf': acc3,\n",
        "    'sigmoid': acc4\n",
        "}, \"Accuracy for n_cluster = 1024\", \"kernel\")"
      ]
    }
  ],
  "metadata": {
    "colab": {
      "provenance": []
    },
    "kernelspec": {
      "display_name": "htrvu",
      "language": "python",
      "name": "python3"
    },
    "language_info": {
      "codemirror_mode": {
        "name": "ipython",
        "version": 3
      },
      "file_extension": ".py",
      "mimetype": "text/x-python",
      "name": "python",
      "nbconvert_exporter": "python",
      "pygments_lexer": "ipython3",
      "version": "3.8.15"
    },
    "vscode": {
      "interpreter": {
        "hash": "29b5b589404159c8ac2c5a79d2d4d8ab410725feeb3fd05b09c01a729c324786"
      }
    }
  },
  "nbformat": 4,
  "nbformat_minor": 0
}